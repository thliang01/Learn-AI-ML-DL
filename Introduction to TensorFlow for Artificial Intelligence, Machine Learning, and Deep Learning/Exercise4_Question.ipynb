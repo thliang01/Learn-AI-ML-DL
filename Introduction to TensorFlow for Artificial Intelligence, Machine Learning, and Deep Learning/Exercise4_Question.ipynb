{
  "nbformat": 4,
  "nbformat_minor": 0,
  "metadata": {
    "colab": {
      "name": "Exercise4-Question.ipynb",
      "provenance": [],
      "authorship_tag": "ABX9TyNYo6PYWm1kZCNesmMysAux",
      "include_colab_link": true
    },
    "kernelspec": {
      "name": "python3",
      "display_name": "Python 3"
    },
    "accelerator": "GPU"
  },
  "cells": [
    {
      "cell_type": "markdown",
      "metadata": {
        "id": "view-in-github",
        "colab_type": "text"
      },
      "source": [
        "<a href=\"https://colab.research.google.com/github/thliang01/Learn-Machine-Learning/blob/main/Exercise4_Question.ipynb\" target=\"_parent\"><img src=\"https://colab.research.google.com/assets/colab-badge.svg\" alt=\"Open In Colab\"/></a>"
      ]
    },
    {
      "cell_type": "code",
      "metadata": {
        "id": "resf1DiADNtv"
      },
      "source": [
        "import tensorflow as tf\r\n",
        "import os\r\n",
        "import zipfile\r\n",
        "from os import path, getcwd, chdir\r\n",
        "\r\n",
        "# DO NOT CHANGE THE LINE BELOW. If you are developing in a local\r\n",
        "# environment, then grab happy-or-sad.zip from the Coursera Jupyter Notebook\r\n",
        "# and place it inside a local folder and edit the path to that location\r\n",
        "path = f\"{getcwd()}/../tmp2/happy-or-sad.zip\"\r\n",
        "\r\n",
        "zip_ref = zipfile.ZipFile(path, 'r')\r\n",
        "zip_ref.extractall(\"/tmp/h-or-s\")\r\n",
        "zip_ref.close()"
      ],
      "execution_count": null,
      "outputs": []
    },
    {
      "cell_type": "code",
      "metadata": {
        "id": "x1sZYvLsJQgS"
      },
      "source": [
        "# GRADED FUNCTION: train_happy_sad_model\r\n",
        "def train_happy_sad_model():\r\n",
        "    # Please write your code only where you are indicated.\r\n",
        "    # please do not remove # model fitting inline comments.\r\n",
        "\r\n",
        "    DESIRED_ACCURACY = 0.999\r\n",
        "\r\n",
        "    class myCallback(tf.keras.callbacks.Callback):\r\n",
        "         def on_epoch_end(self, epoch, logs={}):\r\n",
        "            if(logs.get('acc')>DESIRED_ACCURACY):\r\n",
        "                print(\"Reached 99.9% accuracy so cancelling training!\")\r\n",
        "                self.model.stop_training = True\r\n",
        "\r\n",
        "    callbacks = myCallback()\r\n",
        "    \r\n",
        "    # This Code Block should Define and Compile the Model. Please assume the images are 150 X 150 in your implementation.\r\n",
        "    model = tf.keras.models.Sequential([\r\n",
        "        tf.keras.layers.Conv2D(16, (3,3), activation='relu', input_shape=(150, 150, 3)),\r\n",
        "        tf.keras.layers.MaxPooling2D(2, 2),\r\n",
        "        tf.keras.layers.Conv2D(32, (3,3), activation='relu'),\r\n",
        "        tf.keras.layers.MaxPooling2D(2,2),\r\n",
        "        tf.keras.layers.Conv2D(32, (3,3), activation='relu'),\r\n",
        "        tf.keras.layers.MaxPooling2D(2,2),\r\n",
        "        tf.keras.layers.Flatten(),\r\n",
        "        tf.keras.layers.Dense(512, activation='relu'),\r\n",
        "        tf.keras.layers.Dense(1, activation='sigmoid')\r\n",
        "    ])\r\n",
        "\r\n",
        "    from tensorflow.keras.optimizers import RMSprop\r\n",
        "\r\n",
        "    model.compile(loss='binary_crossentropy',\r\n",
        "              optimizer=RMSprop(lr=0.001),\r\n",
        "              metrics=['acc'])\r\n",
        "        \r\n",
        "\r\n",
        "    # This code block should create an instance of an ImageDataGenerator called train_datagen \r\n",
        "    # And a train_generator by calling train_datagen.flow_from_directory\r\n",
        "\r\n",
        "    from tensorflow.keras.preprocessing.image import ImageDataGenerator\r\n",
        "\r\n",
        "    train_datagen = ImageDataGenerator(rescale=1/255)\r\n",
        "        \r\n",
        "    # Please use a target_size of 150 X 150.\r\n",
        "    train_generator = train_datagen.flow_from_directory(\r\n",
        "        \"/tmp/h-or-s\",  \r\n",
        "        target_size=(150, 150), \r\n",
        "        batch_size=10,\r\n",
        "        class_mode='binary')\r\n",
        "    # Expected output: 'Found 80 images belonging to 2 classes'\r\n",
        "\r\n",
        "    # This code block should call model.fit_generator and train for\r\n",
        "    # a number of epochs.\r\n",
        "    # model fitting\r\n",
        "    history = model.fit_generator(\r\n",
        "        train_generator,\r\n",
        "        steps_per_epoch=2,  \r\n",
        "        epochs=15,\r\n",
        "        verbose=1,\r\n",
        "        callbacks=[callbacks])\r\n",
        "    # model fitting\r\n",
        "    return history.history['acc'][-1]"
      ],
      "execution_count": null,
      "outputs": []
    },
    {
      "cell_type": "code",
      "metadata": {
        "id": "aOWTVGn_JS-u"
      },
      "source": [
        "# The Expected output: \"Reached 99.9% accuracy so cancelling training!\"\"\r\n",
        "train_happy_sad_model()"
      ],
      "execution_count": null,
      "outputs": []
    }
  ]
}