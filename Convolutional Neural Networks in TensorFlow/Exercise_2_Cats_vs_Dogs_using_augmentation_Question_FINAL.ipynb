{
  "nbformat": 4,
  "nbformat_minor": 0,
  "metadata": {
    "colab": {
      "name": "Exercise_2_Cats_vs_Dogs_using_augmentation_Question-FINAL.ipynb",
      "provenance": []
    },
    "kernelspec": {
      "name": "python3",
      "display_name": "Python 3"
    },
    "accelerator": "GPU"
  },
  "cells": [
    {
      "cell_type": "code",
      "metadata": {
        "colab": {
          "base_uri": "https://localhost:8080/"
        },
        "id": "zYcLnnyz4mky",
        "outputId": "7ddc8ad4-d086-47e6-e2d4-95d52b33b5cb"
      },
      "source": [
        "! nvidia-smi"
      ],
      "execution_count": 1,
      "outputs": [
        {
          "output_type": "stream",
          "text": [
            "Mon Mar 15 12:35:59 2021       \n",
            "+-----------------------------------------------------------------------------+\n",
            "| NVIDIA-SMI 460.56       Driver Version: 460.32.03    CUDA Version: 11.2     |\n",
            "|-------------------------------+----------------------+----------------------+\n",
            "| GPU  Name        Persistence-M| Bus-Id        Disp.A | Volatile Uncorr. ECC |\n",
            "| Fan  Temp  Perf  Pwr:Usage/Cap|         Memory-Usage | GPU-Util  Compute M. |\n",
            "|                               |                      |               MIG M. |\n",
            "|===============================+======================+======================|\n",
            "|   0  Tesla K80           Off  | 00000000:00:04.0 Off |                    0 |\n",
            "| N/A   73C    P8    36W / 149W |      0MiB / 11441MiB |      0%      Default |\n",
            "|                               |                      |                  N/A |\n",
            "+-------------------------------+----------------------+----------------------+\n",
            "                                                                               \n",
            "+-----------------------------------------------------------------------------+\n",
            "| Processes:                                                                  |\n",
            "|  GPU   GI   CI        PID   Type   Process name                  GPU Memory |\n",
            "|        ID   ID                                                   Usage      |\n",
            "|=============================================================================|\n",
            "|  No running processes found                                                 |\n",
            "+-----------------------------------------------------------------------------+\n"
          ],
          "name": "stdout"
        }
      ]
    },
    {
      "cell_type": "code",
      "metadata": {
        "colab": {
          "base_uri": "https://localhost:8080/"
        },
        "id": "UqXkrjeV8mp6",
        "outputId": "0ee9a684-5b3f-49a1-bd19-3079068c684c"
      },
      "source": [
        "! pip install zipfile shutil"
      ],
      "execution_count": 5,
      "outputs": [
        {
          "output_type": "stream",
          "text": [
            "\u001b[31mERROR: Could not find a version that satisfies the requirement zipfile (from versions: none)\u001b[0m\n",
            "\u001b[31mERROR: No matching distribution found for zipfile\u001b[0m\n"
          ],
          "name": "stdout"
        }
      ]
    },
    {
      "cell_type": "code",
      "metadata": {
        "id": "N6kGQzDr8QiL"
      },
      "source": [
        "# ATTENTION: Please do not alter any of the provided code in the exercise. Only add your own code where indicated\r\n",
        "# ATTENTION: Please do not add or remove any cells in the exercise. The grader will check specific cells based on the cell position.\r\n",
        "# ATTENTION: Please use the provided epoch values when training.\r\n",
        "\r\n",
        "# In this exercise you will train a CNN on the FULL Cats-v-dogs dataset\r\n",
        "# This will require you doing a lot of data preprocessing because\r\n",
        "# the dataset isn't split into training and validation for you\r\n",
        "# This code block has all the required inputs\r\n",
        "import os\r\n",
        "import zipfile\r\n",
        "import random\r\n",
        "import shutil\r\n",
        "import tensorflow as tf\r\n",
        "from tensorflow.keras.optimizers import RMSprop\r\n",
        "from tensorflow.keras.preprocessing.image import ImageDataGenerator\r\n",
        "from shutil import copyfile\r\n",
        "from os import getcwd"
      ],
      "execution_count": 2,
      "outputs": []
    },
    {
      "cell_type": "code",
      "metadata": {
        "colab": {
          "base_uri": "https://localhost:8080/",
          "height": 382
        },
        "id": "85VTozGd8X2g",
        "outputId": "48691e24-2f30-4e01-8836-e94bb4a8a295"
      },
      "source": [
        "# This code block unzips the full Cats-v-Dogs dataset to /tmp\r\n",
        "# which will create a tmp/PetImages directory containing subdirectories\r\n",
        "# called 'Cat' and 'Dog' (that's how the original researchers structured it)\r\n",
        "path_cats_and_dogs = f\"{getcwd()}/../tmp2/cats-and-dogs.zip\"\r\n",
        "shutil.rmtree('/tmp')\r\n",
        "\r\n",
        "local_zip = path_cats_and_dogs\r\n",
        "zip_ref = zipfile.ZipFile(local_zip, 'r')\r\n",
        "zip_ref.extractall('/tmp')\r\n",
        "zip_ref.close()"
      ],
      "execution_count": 4,
      "outputs": [
        {
          "output_type": "error",
          "ename": "FileNotFoundError",
          "evalue": "ignored",
          "traceback": [
            "\u001b[0;31m---------------------------------------------------------------------------\u001b[0m",
            "\u001b[0;31mFileNotFoundError\u001b[0m                         Traceback (most recent call last)",
            "\u001b[0;32m<ipython-input-4-d9a7b89339e9>\u001b[0m in \u001b[0;36m<module>\u001b[0;34m()\u001b[0m\n\u001b[1;32m      3\u001b[0m \u001b[0;31m# called 'Cat' and 'Dog' (that's how the original researchers structured it)\u001b[0m\u001b[0;34m\u001b[0m\u001b[0;34m\u001b[0m\u001b[0;34m\u001b[0m\u001b[0m\n\u001b[1;32m      4\u001b[0m \u001b[0mpath_cats_and_dogs\u001b[0m \u001b[0;34m=\u001b[0m \u001b[0;34mf\"{getcwd()}/../tmp2/cats-and-dogs.zip\"\u001b[0m\u001b[0;34m\u001b[0m\u001b[0;34m\u001b[0m\u001b[0m\n\u001b[0;32m----> 5\u001b[0;31m \u001b[0mshutil\u001b[0m\u001b[0;34m.\u001b[0m\u001b[0mrmtree\u001b[0m\u001b[0;34m(\u001b[0m\u001b[0;34m'/tmp'\u001b[0m\u001b[0;34m)\u001b[0m\u001b[0;34m\u001b[0m\u001b[0;34m\u001b[0m\u001b[0m\n\u001b[0m\u001b[1;32m      6\u001b[0m \u001b[0;34m\u001b[0m\u001b[0m\n\u001b[1;32m      7\u001b[0m \u001b[0mlocal_zip\u001b[0m \u001b[0;34m=\u001b[0m \u001b[0mpath_cats_and_dogs\u001b[0m\u001b[0;34m\u001b[0m\u001b[0;34m\u001b[0m\u001b[0m\n",
            "\u001b[0;32m/usr/lib/python3.7/shutil.py\u001b[0m in \u001b[0;36mrmtree\u001b[0;34m(path, ignore_errors, onerror)\u001b[0m\n\u001b[1;32m    483\u001b[0m             \u001b[0morig_st\u001b[0m \u001b[0;34m=\u001b[0m \u001b[0mos\u001b[0m\u001b[0;34m.\u001b[0m\u001b[0mlstat\u001b[0m\u001b[0;34m(\u001b[0m\u001b[0mpath\u001b[0m\u001b[0;34m)\u001b[0m\u001b[0;34m\u001b[0m\u001b[0;34m\u001b[0m\u001b[0m\n\u001b[1;32m    484\u001b[0m         \u001b[0;32mexcept\u001b[0m \u001b[0mException\u001b[0m\u001b[0;34m:\u001b[0m\u001b[0;34m\u001b[0m\u001b[0;34m\u001b[0m\u001b[0m\n\u001b[0;32m--> 485\u001b[0;31m             \u001b[0monerror\u001b[0m\u001b[0;34m(\u001b[0m\u001b[0mos\u001b[0m\u001b[0;34m.\u001b[0m\u001b[0mlstat\u001b[0m\u001b[0;34m,\u001b[0m \u001b[0mpath\u001b[0m\u001b[0;34m,\u001b[0m \u001b[0msys\u001b[0m\u001b[0;34m.\u001b[0m\u001b[0mexc_info\u001b[0m\u001b[0;34m(\u001b[0m\u001b[0;34m)\u001b[0m\u001b[0;34m)\u001b[0m\u001b[0;34m\u001b[0m\u001b[0;34m\u001b[0m\u001b[0m\n\u001b[0m\u001b[1;32m    486\u001b[0m             \u001b[0;32mreturn\u001b[0m\u001b[0;34m\u001b[0m\u001b[0;34m\u001b[0m\u001b[0m\n\u001b[1;32m    487\u001b[0m         \u001b[0;32mtry\u001b[0m\u001b[0;34m:\u001b[0m\u001b[0;34m\u001b[0m\u001b[0;34m\u001b[0m\u001b[0m\n",
            "\u001b[0;32m/usr/lib/python3.7/shutil.py\u001b[0m in \u001b[0;36mrmtree\u001b[0;34m(path, ignore_errors, onerror)\u001b[0m\n\u001b[1;32m    481\u001b[0m         \u001b[0;31m# lstat()/open()/fstat() trick.\u001b[0m\u001b[0;34m\u001b[0m\u001b[0;34m\u001b[0m\u001b[0;34m\u001b[0m\u001b[0m\n\u001b[1;32m    482\u001b[0m         \u001b[0;32mtry\u001b[0m\u001b[0;34m:\u001b[0m\u001b[0;34m\u001b[0m\u001b[0;34m\u001b[0m\u001b[0m\n\u001b[0;32m--> 483\u001b[0;31m             \u001b[0morig_st\u001b[0m \u001b[0;34m=\u001b[0m \u001b[0mos\u001b[0m\u001b[0;34m.\u001b[0m\u001b[0mlstat\u001b[0m\u001b[0;34m(\u001b[0m\u001b[0mpath\u001b[0m\u001b[0;34m)\u001b[0m\u001b[0;34m\u001b[0m\u001b[0;34m\u001b[0m\u001b[0m\n\u001b[0m\u001b[1;32m    484\u001b[0m         \u001b[0;32mexcept\u001b[0m \u001b[0mException\u001b[0m\u001b[0;34m:\u001b[0m\u001b[0;34m\u001b[0m\u001b[0;34m\u001b[0m\u001b[0m\n\u001b[1;32m    485\u001b[0m             \u001b[0monerror\u001b[0m\u001b[0;34m(\u001b[0m\u001b[0mos\u001b[0m\u001b[0;34m.\u001b[0m\u001b[0mlstat\u001b[0m\u001b[0;34m,\u001b[0m \u001b[0mpath\u001b[0m\u001b[0;34m,\u001b[0m \u001b[0msys\u001b[0m\u001b[0;34m.\u001b[0m\u001b[0mexc_info\u001b[0m\u001b[0;34m(\u001b[0m\u001b[0;34m)\u001b[0m\u001b[0;34m)\u001b[0m\u001b[0;34m\u001b[0m\u001b[0;34m\u001b[0m\u001b[0m\n",
            "\u001b[0;31mFileNotFoundError\u001b[0m: [Errno 2] No such file or directory: '/tmp'"
          ]
        }
      ]
    },
    {
      "cell_type": "code",
      "metadata": {
        "id": "YqO0xMCsCqe0"
      },
      "source": [
        "print(len(os.listdir('/tmp/PetImages/Cat/')))\r\n",
        "print(len(os.listdir('/tmp/PetImages/Dog/')))\r\n",
        "\r\n",
        "# Expected Output:\r\n",
        "# 1500\r\n",
        "# 1500"
      ],
      "execution_count": null,
      "outputs": []
    },
    {
      "cell_type": "code",
      "metadata": {
        "id": "pOAQOt7QCs1K"
      },
      "source": [
        "# Use os.mkdir to create your directories\r\n",
        "# You will need a directory for cats-v-dogs, and subdirectories for training\r\n",
        "# and testing. These in turn will need subdirectories for 'cats' and 'dogs'\r\n",
        "\r\n",
        "to_create = [\r\n",
        "    '/tmp/cats-v-dogs',\r\n",
        "    '/tmp/cats-v-dogs/training',\r\n",
        "    '/tmp/cats-v-dogs/testing',\r\n",
        "    '/tmp/cats-v-dogs/training/cats',\r\n",
        "    '/tmp/cats-v-dogs/training/dogs',\r\n",
        "    '/tmp/cats-v-dogs/testing/cats',\r\n",
        "    '/tmp/cats-v-dogs/testing/dogs'\r\n",
        "]\r\n",
        "\r\n",
        "for directory in to_create:\r\n",
        "    try:\r\n",
        "        os.mkdir(directory)\r\n",
        "        print(directory, 'created')\r\n",
        "    except:\r\n",
        "        print(directory, 'failed')"
      ],
      "execution_count": null,
      "outputs": []
    },
    {
      "cell_type": "code",
      "metadata": {
        "id": "KxVYsbmVCus-"
      },
      "source": [
        "# Write a python function called split_data which takes\r\n",
        "# a SOURCE directory containing the files\r\n",
        "# a TRAINING directory that a portion of the files will be copied to\r\n",
        "# a TESTING directory that a portion of the files will be copie to\r\n",
        "# a SPLIT SIZE to determine the portion\r\n",
        "# The files should also be randomized, so that the training set is a random\r\n",
        "# X% of the files, and the test set is the remaining files\r\n",
        "# SO, for example, if SOURCE is PetImages/Cat, and SPLIT SIZE is .9\r\n",
        "# Then 90% of the images in PetImages/Cat will be copied to the TRAINING dir\r\n",
        "# and 10% of the images will be copied to the TESTING dir\r\n",
        "# Also -- All images should be checked, and if they have a zero file length,\r\n",
        "# they will not be copied over\r\n",
        "#\r\n",
        "# os.listdir(DIRECTORY) gives you a listing of the contents of that directory\r\n",
        "# os.path.getsize(PATH) gives you the size of the file\r\n",
        "# copyfile(source, destination) copies a file from source to destination\r\n",
        "# random.sample(list, len(list)) shuffles a list\r\n",
        "def split_data(SOURCE, TRAINING, TESTING, SPLIT_SIZE):\r\n",
        "    all_files = []\r\n",
        "    \r\n",
        "    for file_name in os.listdir(SOURCE):\r\n",
        "        file_path = SOURCE + file_name\r\n",
        "\r\n",
        "        if os.path.getsize(file_path):\r\n",
        "            all_files.append(file_name)\r\n",
        "        else:\r\n",
        "            print('{} is zero length, so ignoring'.format(file_name))\r\n",
        "        \r\n",
        "    n_files = len(all_files)\r\n",
        "    split_point = int(n_files * SPLIT_SIZE)\r\n",
        "    \r\n",
        "    shuffled = random.sample(all_files, n_files)\r\n",
        "    \r\n",
        "    train_set = shuffled[:split_point]\r\n",
        "    test_set = shuffled[split_point:]\r\n",
        "    \r\n",
        "    for file_name in train_set:\r\n",
        "        copyfile(SOURCE + file_name, TRAINING + file_name)\r\n",
        "        \r\n",
        "    for file_name in test_set:\r\n",
        "        copyfile(SOURCE + file_name, TESTING + file_name)\r\n",
        "\r\n",
        "\r\n",
        "CAT_SOURCE_DIR = \"/tmp/PetImages/Cat/\"\r\n",
        "TRAINING_CATS_DIR = \"/tmp/cats-v-dogs/training/cats/\"\r\n",
        "TESTING_CATS_DIR = \"/tmp/cats-v-dogs/testing/cats/\"\r\n",
        "DOG_SOURCE_DIR = \"/tmp/PetImages/Dog/\"\r\n",
        "TRAINING_DOGS_DIR = \"/tmp/cats-v-dogs/training/dogs/\"\r\n",
        "TESTING_DOGS_DIR = \"/tmp/cats-v-dogs/testing/dogs/\"\r\n",
        "\r\n",
        "split_size = .9\r\n",
        "split_data(CAT_SOURCE_DIR, TRAINING_CATS_DIR, TESTING_CATS_DIR, split_size)\r\n",
        "split_data(DOG_SOURCE_DIR, TRAINING_DOGS_DIR, TESTING_DOGS_DIR, split_size)"
      ],
      "execution_count": null,
      "outputs": []
    },
    {
      "cell_type": "code",
      "metadata": {
        "id": "WQWypazACwwU"
      },
      "source": [
        "print(len(os.listdir('/tmp/cats-v-dogs/training/cats/')))\r\n",
        "print(len(os.listdir('/tmp/cats-v-dogs/training/dogs/')))\r\n",
        "print(len(os.listdir('/tmp/cats-v-dogs/testing/cats/')))\r\n",
        "print(len(os.listdir('/tmp/cats-v-dogs/testing/dogs/')))\r\n",
        "\r\n",
        "# Expected output:\r\n",
        "# 1350\r\n",
        "# 1350\r\n",
        "# 150\r\n",
        "# 150"
      ],
      "execution_count": null,
      "outputs": []
    },
    {
      "cell_type": "code",
      "metadata": {
        "id": "CeFBpRO4CymX"
      },
      "source": [
        "# DEFINE A KERAS MODEL TO CLASSIFY CATS V DOGS\r\n",
        "# USE AT LEAST 3 CONVOLUTION LAYERS\r\n",
        "model = tf.keras.models.Sequential([\r\n",
        "    tf.keras.layers.Conv2D(32, (3,3), input_shape=(150, 150, 3), activation='relu'),\r\n",
        "    tf.keras.layers.MaxPooling2D(2,2),\r\n",
        "    tf.keras.layers.Conv2D(64, (3,3), activation='relu'),\r\n",
        "    tf.keras.layers.MaxPooling2D(2,2),\r\n",
        "    tf.keras.layers.Conv2D(128, (3, 3), activation='relu'),\r\n",
        "    tf.keras.layers.MaxPooling2D(2,2),\r\n",
        "    tf.keras.layers.Flatten(),\r\n",
        "    tf.keras.layers.Dense(512, activation='relu'),\r\n",
        "    tf.keras.layers.Dense(128, activation='relu'),\r\n",
        "    tf.keras.layers.Dense(1, activation='sigmoid')\r\n",
        "])\r\n",
        "\r\n",
        "model.compile(optimizer=RMSprop(lr=0.001), loss='binary_crossentropy', metrics=['acc'])"
      ],
      "execution_count": null,
      "outputs": []
    },
    {
      "cell_type": "code",
      "metadata": {
        "id": "N6FXFtWfC0gJ"
      },
      "source": [
        "TRAINING_DIR = '/tmp/cats-v-dogs/training'\r\n",
        "train_datagen = ImageDataGenerator(\r\n",
        "    rescale=1 / 255,\r\n",
        "    rotation_range=40,\r\n",
        "    width_shift_range=.2,\r\n",
        "    height_shift_range=.2,\r\n",
        "    shear_range=.2,\r\n",
        "    zoom_range=.2,\r\n",
        "    horizontal_flip=True,\r\n",
        "    fill_mode='nearest'\r\n",
        ")\r\n",
        "\r\n",
        "# NOTE: YOU MUST USE A BATCH SIZE OF 10 (batch_size=10) FOR THE \r\n",
        "# TRAIN GENERATOR.\r\n",
        "train_generator = train_datagen.flow_from_directory(\r\n",
        "    TRAINING_DIR,\r\n",
        "    batch_size=64,\r\n",
        "    class_mode='binary',\r\n",
        "    target_size=(150, 150)\r\n",
        ")\r\n",
        "\r\n",
        "VALIDATION_DIR = '/tmp/cats-v-dogs/testing'\r\n",
        "validation_datagen = ImageDataGenerator(\r\n",
        "    rescale=1 / 255,\r\n",
        "    rotation_range=40,\r\n",
        "    width_shift_range=.2,\r\n",
        "    height_shift_range=.2,\r\n",
        "    shear_range=.2,\r\n",
        "    zoom_range=.2,\r\n",
        "    horizontal_flip=True,\r\n",
        "    fill_mode='nearest'\r\n",
        ")\r\n",
        "\r\n",
        "# NOTE: YOU MUST USE A BACTH SIZE OF 10 (batch_size=10) FOR THE \r\n",
        "# VALIDATION GENERATOR.\r\n",
        "validation_generator = validation_datagen.flow_from_directory(\r\n",
        "    VALIDATION_DIR,\r\n",
        "    batch_size=64,\r\n",
        "    class_mode='binary',\r\n",
        "    target_size=(150, 150)\r\n",
        ")\r\n",
        "\r\n",
        "\r\n",
        "\r\n",
        "# Expected Output:\r\n",
        "# Found 2700 images belonging to 2 classes.\r\n",
        "# Found 300 images belonging to 2 classes."
      ],
      "execution_count": null,
      "outputs": []
    },
    {
      "cell_type": "code",
      "metadata": {
        "id": "uw7mClRrC3k2"
      },
      "source": [
        "history = model.fit_generator(train_generator,\r\n",
        "                              epochs=2,\r\n",
        "                              verbose=1,\r\n",
        "                              validation_data=validation_generator)\r\n"
      ],
      "execution_count": null,
      "outputs": []
    },
    {
      "cell_type": "code",
      "metadata": {
        "id": "af_Hpn_jC5iL"
      },
      "source": [
        "# PLOT LOSS AND ACCURACY\r\n",
        "%matplotlib inline\r\n",
        "\r\n",
        "import matplotlib.image  as mpimg\r\n",
        "import matplotlib.pyplot as plt\r\n",
        "\r\n",
        "#-----------------------------------------------------------\r\n",
        "# Retrieve a list of list results on training and test data\r\n",
        "# sets for each training epoch\r\n",
        "#-----------------------------------------------------------\r\n",
        "acc=history.history['acc']\r\n",
        "val_acc=history.history['val_acc']\r\n",
        "loss=history.history['loss']\r\n",
        "val_loss=history.history['val_loss']\r\n",
        "\r\n",
        "epochs=range(len(acc)) # Get number of epochs\r\n",
        "\r\n",
        "#------------------------------------------------\r\n",
        "# Plot training and validation accuracy per epoch\r\n",
        "#------------------------------------------------\r\n",
        "plt.plot(epochs, acc, 'r', \"Training Accuracy\")\r\n",
        "plt.plot(epochs, val_acc, 'b', \"Validation Accuracy\")\r\n",
        "plt.title('Training and validation accuracy')\r\n",
        "plt.figure()\r\n",
        "\r\n",
        "#------------------------------------------------\r\n",
        "# Plot training and validation loss per epoch\r\n",
        "#------------------------------------------------\r\n",
        "plt.plot(epochs, loss, 'r', \"Training Loss\")\r\n",
        "plt.plot(epochs, val_loss, 'b', \"Validation Loss\")\r\n",
        "\r\n",
        "\r\n",
        "plt.title('Training and validation loss')\r\n",
        "\r\n",
        "# Desired output. Charts with training and validation metrics. No crash :)"
      ],
      "execution_count": null,
      "outputs": []
    }
  ]
}